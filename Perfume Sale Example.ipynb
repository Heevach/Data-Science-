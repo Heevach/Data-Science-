{
 "cells": [
  {
   "cell_type": "markdown",
   "metadata": {},
   "source": [
    "The information related to the sale of perfume with the price of 150 and 250 thousand Tomans is included in the table. According to this information, does a 26-year-old man with an income of 5 million tomans buy a 250-toman perfume?\n",
    "\n",
    "man:1 woman:0\n",
    "\n",
    "buy:1 not buy:0"
   ]
  },
  {
   "cell_type": "code",
   "execution_count": 1,
   "metadata": {},
   "outputs": [
    {
     "name": "stdout",
     "output_type": "stream",
     "text": [
      "[[ 18   1   1 250   0]\n",
      " [ 20   0   1 150   0]\n",
      " [ 22   0   2 150   1]\n",
      " [ 23   1   2 250   1]\n",
      " [ 24   1   3 150   0]\n",
      " [ 24   0   2 250   0]\n",
      " [ 24   0   3 150   1]\n",
      " [ 25   0   2 250   0]\n",
      " [ 25   0   1 150   0]\n",
      " [ 25   1   3 150   1]\n",
      " [ 25   1   5 250   1]\n",
      " [ 25   0   5 250   1]\n",
      " [ 26   0   1 150   0]\n",
      " [ 26   0   2 250   0]\n",
      " [ 26   0   3 150   1]\n",
      " [ 27   1   3 250   1]\n",
      " [ 27   1   5 250   1]\n",
      " [ 27   1   7 250   1]\n",
      " [ 27   0   5 150   1]\n",
      " [ 27   0   7 250   1]\n",
      " [ 27   0   7 150   1]\n",
      " [ 28   1   3 250   0]\n",
      " [ 28   1   5 250   1]\n",
      " [ 28   1   7 250   1]\n",
      " [ 28   1  10 250   1]\n",
      " [ 29   0  10 250   1]\n",
      " [ 30   1   5 150   1]\n",
      " [ 30   0   7 250   1]]\n"
     ]
    }
   ],
   "source": [
    "import numpy as np\n",
    "data=np.array([[18,1,1,250,0],[20,0,1,150,0],[22,0,2,150,1],[23,1,2,250,1],\n",
    "[24,1,3,150,0],[24,0,2,250,0],[24,0,3,150,1],[25,0,2,250,0],\n",
    "[25,0,1,150,0],[25,1,3,150,1],[25,1,5,250,1],[25,0,5,250,1],\n",
    "[26,0,1,150,0],[26,0,2,250,0],[26,0,3,150,1],[27,1,3,250,1],\n",
    "[27,1,5,250,1],[27,1,7,250,1],[27,0,5,150,1],[27,0,7,250,1],\n",
    "[27,0,7,150,1],[28,1,3,250,0],[28,1,5,250,1],[28,1,7,250,1],\n",
    "[28,1,10,250,1],[29,0,10,250,1],[30,1,5,150,1],[30,0,7,250,1]])\n",
    "print(data)\n",
    "X=data[:,:-1]\n",
    "y=data[:,-1]\n",
    "from sklearn.model_selection import train_test_split\n",
    "X_train,X_test,y_train,y_test=train_test_split(X,y,test_size=0.2,random_state=0)"
   ]
  },
  {
   "cell_type": "code",
   "execution_count": 2,
   "metadata": {},
   "outputs": [],
   "source": [
    "from sklearn.linear_model import LogisticRegression\n",
    "model= LogisticRegression()\n",
    "model.fit(X_train,y_train)\n",
    "y_pred=model.predict(X_test)"
   ]
  },
  {
   "cell_type": "code",
   "execution_count": 3,
   "metadata": {},
   "outputs": [
    {
     "name": "stdout",
     "output_type": "stream",
     "text": [
      "   y_test  y_pred\n",
      "0       1       0\n",
      "1       1       1\n",
      "2       1       1\n",
      "3       1       1\n",
      "4       0       0\n",
      "5       1       1\n",
      "[[1 0]\n",
      " [1 4]]\n",
      "              precision    recall  f1-score   support\n",
      "\n",
      "           0       0.50      1.00      0.67         1\n",
      "           1       1.00      0.80      0.89         5\n",
      "\n",
      "    accuracy                           0.83         6\n",
      "   macro avg       0.75      0.90      0.78         6\n",
      "weighted avg       0.92      0.83      0.85         6\n",
      "\n",
      "Accuracy:  0.8333333333333334\n",
      "[1]\n"
     ]
    }
   ],
   "source": [
    "import pandas as pd\n",
    "df2=pd. DataFrame({\"y_test\":y_test,\"y_pred\":y_pred})\n",
    "print(df2)\n",
    "from sklearn import metrics\n",
    "print(metrics.confusion_matrix(y_test, y_pred))\n",
    "print(metrics.classification_report(y_test, y_pred))\n",
    "print('Accuracy: ',metrics.accuracy_score(y_test, y_pred))\n",
    "print(model.predict([[26,1,5,250]]))"
   ]
  }
 ],
 "metadata": {
  "kernelspec": {
   "display_name": "Python 3",
   "language": "python",
   "name": "python3"
  },
  "language_info": {
   "codemirror_mode": {
    "name": "ipython",
    "version": 3
   },
   "file_extension": ".py",
   "mimetype": "text/x-python",
   "name": "python",
   "nbconvert_exporter": "python",
   "pygments_lexer": "ipython3",
   "version": "3.8.5"
  }
 },
 "nbformat": 4,
 "nbformat_minor": 4
}
