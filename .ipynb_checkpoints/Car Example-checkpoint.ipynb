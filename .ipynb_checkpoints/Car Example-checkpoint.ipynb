{
 "cells": [
  {
   "cell_type": "markdown",
   "metadata": {},
   "source": [
    "Multivariate linear regression using sklearn"
   ]
  },
  {
   "cell_type": "code",
   "execution_count": 3,
   "metadata": {},
   "outputs": [
    {
     "name": "stdout",
     "output_type": "stream",
     "text": [
      "[107.2087328]\n",
      "[0.00755095 0.00780526]\n"
     ]
    }
   ],
   "source": [
    "import pandas\n",
    "from sklearn import linear_model\n",
    "#data\n",
    "df= pandas.read_excel(\"car.xlsx\")\n",
    "X = df[['Weight', 'Volume']]\n",
    "y = df['CO2']\n",
    "#model\n",
    "model= linear_model.LinearRegression()\n",
    "model.fit(X, y)\n",
    "#prediction\n",
    "predictedCO2 = model.predict([[2300, 1300]])\n",
    "print(predictedCO2)\n",
    "print(model.coef_)"
   ]
  },
  {
   "cell_type": "markdown",
   "metadata": {},
   "source": [
    "We have already predicted that if a car with a 1300cm3 engine weighs\n",
    "2300kg, the CO2 emission will be approximately 107g.\n",
    "\n",
    "•These values tell us that if the weight increase by 1kg, the CO2\n",
    "emission increases by 0.00755095g.\n",
    "\n",
    "•And if the engine size (Volume) increases by 1 cm3, the CO2 emission\n",
    "increases by 0.00780526 g"
   ]
  },
  {
   "cell_type": "code",
   "execution_count": null,
   "metadata": {},
   "outputs": [],
   "source": []
  }
 ],
 "metadata": {
  "kernelspec": {
   "display_name": "Python 3",
   "language": "python",
   "name": "python3"
  },
  "language_info": {
   "codemirror_mode": {
    "name": "ipython",
    "version": 3
   },
   "file_extension": ".py",
   "mimetype": "text/x-python",
   "name": "python",
   "nbconvert_exporter": "python",
   "pygments_lexer": "ipython3",
   "version": "3.8.5"
  }
 },
 "nbformat": 4,
 "nbformat_minor": 4
}
